{
  "nbformat": 4,
  "nbformat_minor": 0,
  "metadata": {
    "colab": {
      "name": "Medical Insurance Project",
      "provenance": [],
      "authorship_tag": "ABX9TyNNNl8wQyZPyMDdc/59rrA1",
      "include_colab_link": true
    },
    "kernelspec": {
      "name": "python3",
      "display_name": "Python 3"
    },
    "language_info": {
      "name": "python"
    }
  },
  "cells": [
    {
      "cell_type": "markdown",
      "metadata": {
        "id": "view-in-github",
        "colab_type": "text"
      },
      "source": [
        "<a href=\"https://colab.research.google.com/github/kaustuv-techx/Medical_Insurance_Py/blob/main/Medical_Insurance_Project.ipynb\" target=\"_parent\"><img src=\"https://colab.research.google.com/assets/colab-badge.svg\" alt=\"Open In Colab\"/></a>"
      ]
    },
    {
      "cell_type": "markdown",
      "metadata": {
        "id": "uq5qYABB2X58"
      },
      "source": [
        "# Project Description : MEDICAL INSURANCE PROJECT \n",
        "\n",
        "Suppose you are a medical professional curious about how certain factors contribute to medical insurance costs. Using a formula that estimates a person’s yearly insurance costs, you will investigate how different factors such as age, sex, BMI, etc. affect the prediction."
      ]
    },
    {
      "cell_type": "code",
      "metadata": {
        "id": "9gldjeCz2oQ6"
      },
      "source": [
        "# create the initial variables below\n",
        "age = 28\n",
        "sex = 0\n",
        "bmi = 26.2\n",
        "num_of_children = 3\n",
        "smoker = 0"
      ],
      "execution_count": 2,
      "outputs": []
    },
    {
      "cell_type": "code",
      "metadata": {
        "colab": {
          "base_uri": "https://localhost:8080/"
        },
        "id": "hNB8H3wm_zDK",
        "outputId": "6e4bb242-1487-42ed-871c-c2a5089c104f"
      },
      "source": [
        "# Add insurance estimate formula below\n",
        "insurance_cost = 250 * age - 128 * sex + 370 * bmi + 425 * num_of_children + 24000 * smoker - 12500\n",
        "\n",
        "#finding the person's insurance cost\n",
        "print(\"This person's insurance cost is \" + str(insurance_cost) + \" dollars.\")\n"
      ],
      "execution_count": 3,
      "outputs": [
        {
          "output_type": "stream",
          "name": "stdout",
          "text": [
            "This person's insurance cost is 5469.0 dollars.\n"
          ]
        }
      ]
    },
    {
      "cell_type": "code",
      "metadata": {
        "colab": {
          "base_uri": "https://localhost:8080/"
        },
        "id": "i1QC9sNkAC6L",
        "outputId": "67c4fef0-f640-4f84-fd73-bf98562c0f54"
      },
      "source": [
        "# Age Factor\n",
        "#changing the age factor by 4 years more \n",
        "age += 4\n",
        "\n",
        "#finding new insurance cost after increase of 4 years \n",
        "new_insurance_cost = 250 * age - 128 * sex + 370 * bmi + 425 * num_of_children + 24000 * smoker - 12500\n",
        "\n",
        "#we want to find the difference between our new_insurance_cost and insurance_cost\n",
        "change_in_insurance_cost = new_insurance_cost - insurance_cost\n",
        "\n",
        "#giving the output \n",
        "print(\"The change in cost of insurance after increasing the age by 4 years is \" + str(change_in_insurance_cost) + \" dollars.\")\n",
        "\n"
      ],
      "execution_count": 4,
      "outputs": [
        {
          "output_type": "stream",
          "name": "stdout",
          "text": [
            "The change in cost of insurance after increasing the age by 4 years is 1000.0 dollars.\n"
          ]
        }
      ]
    },
    {
      "cell_type": "code",
      "metadata": {
        "colab": {
          "base_uri": "https://localhost:8080/"
        },
        "id": "LrJxEzVNAHEz",
        "outputId": "e9a490c6-cd7c-4c70-ed9f-4e41dff2ddfd"
      },
      "source": [
        "# BMI Factor\n",
        "age = 28\n",
        "bmi += 3.1\n",
        "#change in the insurance cost \n",
        "new_insurance_cost = 250 * age - 128 * sex + 370 * bmi + 425 * num_of_children + 24000 * smoker - 12500\n",
        "#difference\n",
        "change_in_insurance_cost = new_insurance_cost-insurance_cost\n",
        "#displaying output\n",
        "print(\"The change in estimated insurance cost after increasing BMI by 3.1 is \" + str(change_in_insurance_cost) + \" dollars.\")\n",
        "\n"
      ],
      "execution_count": 5,
      "outputs": [
        {
          "output_type": "stream",
          "name": "stdout",
          "text": [
            "The change in estimated insurance cost after increasing BMI by 3.1 is 1147.0 dollars.\n"
          ]
        }
      ]
    },
    {
      "cell_type": "code",
      "metadata": {
        "colab": {
          "base_uri": "https://localhost:8080/"
        },
        "id": "e0Hlx7x3AJwi",
        "outputId": "962a4ea8-523b-4f24-c27f-4736d72b98f2"
      },
      "source": [
        "# Male vs. Female Factor\n",
        "bmi = 26.2\n",
        "sex += 1\n",
        "#change in the insurance cost \n",
        "new_insurance_cost = 250 * age - 128 * sex + 370 * bmi + 425 * num_of_children + 24000 * smoker - 12500\n",
        "#difference\n",
        "change_in_insurance_cost = new_insurance_cost-insurance_cost\n",
        "#displaying output\n",
        "print(\"The change in estimated cost for being male instead of female is \" + str(change_in_insurance_cost) + \" dollars.\")\n",
        "\n",
        "\n"
      ],
      "execution_count": 8,
      "outputs": [
        {
          "output_type": "stream",
          "name": "stdout",
          "text": [
            "The change in estimated cost for being male instead of female is 25997.0 dollars.\n"
          ]
        }
      ]
    },
    {
      "cell_type": "markdown",
      "metadata": {
        "id": "GqXgmlNXAQBU"
      },
      "source": [
        "# Final Result \n",
        "- Notice that this time you got a negative value for change_in_insurance_cost. Let’s think about what this means. We changed the sex variable from 0 (female) to 1 (male) and it decreased the estimated insurance costs.\n",
        "\n",
        "- This means that men tend to have lower medical costs on average than women. Reflect on the other findings you have dug up from this investigation so far."
      ]
    },
    {
      "cell_type": "code",
      "metadata": {
        "colab": {
          "base_uri": "https://localhost:8080/"
        },
        "id": "XyC6gNMDAMJu",
        "outputId": "616aaee0-9818-43c5-ca61-aa864ea0c7d1"
      },
      "source": [
        "# Extra Practice\n",
        "sex = 0 \n",
        "smoker += 1\n",
        "num_of_children += 5\n",
        "\n",
        "#change in the insurance cost \n",
        "new_insurance_cost = 250 * age - 128 * sex + 370 * bmi + 425 * num_of_children + 24000 * smoker - 12500\n",
        "#difference\n",
        "change_in_insurance_cost = new_insurance_cost-insurance_cost\n",
        "#displaying output\n",
        "print(\"The change in estimated insurance cost if u are a smoker and have 5 children \" + str(change_in_insurance_cost) + \" dollars.\")"
      ],
      "execution_count": 7,
      "outputs": [
        {
          "output_type": "stream",
          "name": "stdout",
          "text": [
            "The change in estimated insurance cost if u are a smoker and have 5 children 26125.0 dollars.\n"
          ]
        }
      ]
    },
    {
      "cell_type": "code",
      "metadata": {
        "id": "F8x4p1MsANaP"
      },
      "source": [
        ""
      ],
      "execution_count": null,
      "outputs": []
    }
  ]
}